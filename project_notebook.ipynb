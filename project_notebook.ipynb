{
 "cells": [
  {
   "cell_type": "markdown",
   "metadata": {},
   "source": [
    "# **DS501 Class Project**\n",
    "**Authors:** Daniel Alvarado Segura and Jun Lee\n",
    "\n",
    "**Description**: In this project we plan to merge two data sets which include housing selling prices for California. With this new merged data set we will be able to find a much more refined image of the house market in the area of California. \n",
    "\n",
    "**Data Sets**: We will use two open source data sets which inlcude information about the housing market of the area of California. The first set contains information of the houses per quadrant based on longitude and latitude. The second set has information of specific houses and their specific address. "
   ]
  },
  {
   "cell_type": "markdown",
   "metadata": {},
   "source": [
    "# **Data Loading and Cleaning**\n",
    "**Process:** To be able to merge this two data bases we msut first clean the data by dropping any rows with key information such as its address/location and house features such as number of rooms and proximity to the coast. Additionally, the second date set is split between a training set and a testing set. We will concatenate the contents of these two, to then be able to merge it with the first data set"
   ]
  },
  {
   "cell_type": "markdown",
   "metadata": {},
   "source": [
    "**Data Loading of First Data Set**"
   ]
  },
  {
   "cell_type": "code",
   "execution_count": null,
   "metadata": {},
   "outputs": [],
   "source": [
    "#Data Loading and Cleaning of the first set\n",
    "import pandas as pd\n",
    "\n",
    "#Retrieve data from csv\n",
    "coordinate_based_data = pd.read_csv(\"file_address\") #Use local path data to file\n",
    "\n",
    "#Clean rows with empty data for Address and Bedrooms\n",
    "cleaned_coordinate_based_data = coordinate_based_data.dropna(subset=['longitude', 'latitude'])\n",
    "\n",
    "#Check data\n",
    "print(f\"Full data:\\n{cleaned_coordinate_based_data}\")"
   ]
  },
  {
   "cell_type": "markdown",
   "metadata": {},
   "source": [
    "**Data Loading of Second Data Set**"
   ]
  },
  {
   "cell_type": "code",
   "execution_count": null,
   "metadata": {},
   "outputs": [],
   "source": [
    "#Data Loading and Cleaning of the second set\n",
    "import pandas as pd\n",
    "\n",
    "#Retrieve both parts of data set\n",
    "train_data = pd.read_csv(\"data addres\")\n",
    "test_data = pd.read_csv(\"data addres\")\n",
    "\n",
    "#Join both sets to have complete set\n",
    "full_data = pd.concat([train_data, test_data], axis = 0)\n",
    "\n",
    "#Clean rows with empty data for Address and Bedrooms\n",
    "full_data = full_data.dropna(subset=['Address', 'Bedrooms'])\n",
    "\n",
    "#Check final data\n",
    "print(f\"Full data:\\n{full_data}\")"
   ]
  }
 ],
 "metadata": {
  "kernelspec": {
   "display_name": "Python 3",
   "language": "python",
   "name": "python3"
  },
  "language_info": {
   "name": "python",
   "version": "3.11.5"
  }
 },
 "nbformat": 4,
 "nbformat_minor": 2
}
